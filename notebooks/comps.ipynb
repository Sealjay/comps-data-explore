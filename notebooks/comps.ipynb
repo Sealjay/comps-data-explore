{
 "cells": [
  {
   "cell_type": "code",
   "execution_count": 77,
   "metadata": {
    "cell_id": "50b8df7046eb4028829b50ece586afab",
    "deepnote_cell_type": "code",
    "deepnote_to_be_reexecuted": false,
    "execution_millis": 52,
    "execution_start": 1684911738393,
    "source_hash": "ef56cb40"
   },
   "outputs": [],
   "source": [
    "# imports\n",
    "import os\n",
    "\n",
    "import openai  # for calling the OpenAI API\n",
    "from azure.core.credentials import AzureKeyCredential\n",
    "from azure.search.documents import SearchClient\n",
    "from dotenv import load_dotenv\n",
    "from IPython.Display import Markdown, display\n",
    "\n",
    "# Doc ingestion\n",
    "\n",
    "\n",
    "# openai\n",
    "openai.api_type = \"azure\"\n",
    "openai.api_base =  os.getenv('OPENAI_API_ENDPOINT')\n",
    "openai.api_version = \"2023-03-15-preview\"\n",
    "\n",
    "openai.api_key = os.getenv('OPENAI_API_KEY')\n",
    "formrecognizer_key=os.getenv('FORM_RECOGNIZER_KEY')\n",
    "formrecognizer_endpoint=os.getenv('FORM_RECOGNIZER_ENDPOINT')\n",
    "\n",
    "openai.api_key = os.getenv('OPENAI_API_KEY')\n",
    "\n",
    "load_dotenv() \n",
    "searchservice=os.getenv(\"AZURE_SEARCH_SERVICE\")\n",
    "search_creds = AzureKeyCredential(os.getenv(\"AZURE_SEARCH_KEY\"))\n",
    "search_index=os.getenv(\"AZURE_SEARCH_INDEX\")"
   ]
  },
  {
   "cell_type": "code",
   "execution_count": 78,
   "metadata": {},
   "outputs": [],
   "source": [
    "default_messages=[{\"role\":\"system\",\"content\":\"You are a librarian assistant.\"}]\n",
    "\n",
    "def setup_engine(engine,messages):\n",
    "    engine = openai.ChatCompletion.create(\n",
    "    engine=engine,\n",
    "    messages = messages,\n",
    "    temperature=0.7,\n",
    "    max_tokens=800,\n",
    "    top_p=0.95,\n",
    "    frequency_penalty=0,\n",
    "    presence_penalty=0,\n",
    "    stop=None)\n",
    "    return engine\n",
    "\n",
    "def return_response(message, engine,message_log=False):\n",
    "    if not message_log:\n",
    "        new_messages=default_messages.copy()\n",
    "    else:\n",
    "        new_messages=message_log.copy()\n",
    "    new_messages.append({\"role\":\"user\",\"content\":message})\n",
    "    response=setup_engine(engine,new_messages)\n",
    "    return response, new_messages"
   ]
  },
  {
   "cell_type": "code",
   "execution_count": 79,
   "metadata": {},
   "outputs": [],
   "source": [
    "def generate_search_query_text(question):\n",
    "    query_prompt_template = \"\"\"You are a search term librarian helping a user that needs to be answered by searching in a knowledge base about Industrial Psychology.\n",
    "            Generate a search query based on the conversation and the new question.\n",
    "            If the question is not in English, translate the question to English before generating the search query.\n",
    "\n",
    "        Question:\n",
    "        {question}\n",
    "\n",
    "        Search query:\n",
    "        \"\"\"\n",
    "    prompt = query_prompt_template.format(\n",
    "                question=question\n",
    "            )\n",
    "    # convert content to string\n",
    "    response,message_history=return_response(prompt,\"gpt35\")\n",
    "    return response.choices[0][\"message\"][\"content\"]\n",
    "\n",
    "def get_search_results(search_query, search_client,verbose=False):\n",
    "    r=search_client.search(search_query, top=8)\n",
    "    results = [\n",
    "                \"REFERENCE: \" + doc['reference'] + \"\\nSECTION TEXT:\\n \" +\n",
    "                doc['sectiontext'] + \" \\n END OF SECTION.\\n\"\n",
    "                for doc in r\n",
    "            ]\n",
    "    content = \"\\n\".join(results)\n",
    "    if verbose:\n",
    "        print(content)\n",
    "    return content\n",
    "\n",
    "search_client = SearchClient(\n",
    "        endpoint=f\"https://{searchservice}.search.windows.net/\",\n",
    "        index_name=search_index,\n",
    "        credential=search_creds,\n",
    "    )"
   ]
  },
  {
   "cell_type": "code",
   "execution_count": 83,
   "metadata": {
    "cell_id": "716cc6959a994bf0bca49fc07742cae8",
    "deepnote_cell_type": "code"
   },
   "outputs": [],
   "source": [
    "max_prompt = \"\"\"You are Max, Max helps industrial organizational doctoral students prepare for their comprehensive exams and generates outlines to answer domain questions.\n",
    "It is important to you that you follow these rules:\n",
    "- Be brief in your answers.\n",
    "- ALL information will have an APA 7th edition in text citation for the source used.\n",
    "- All outlines will have a references section at the end.\n",
    "- You are able to try and answer a question, but if you do not have a citation for your answer, then say so - \"I do not have a citation for this response.\" \n",
    "- Do NOT make up citations.\n",
    "- Only generate answers that don't use the sources below when you clearly highlight that fact.\n",
    "- If asking a clarifying question to the user would help, ask the question.\n",
    "- Responses will use a moderate level GRE vocabulary\n",
    "- Responses will use a graduate level writing style, appropriate for a doctoral student in the domain of industrial psychology.\n",
    "- IF a question does not have a scenario THEN keep the answer simple and answer the main constructs; do not give outside examples or scenarios\n",
    "- IF a question does have a scenario THEN answer to the issues or concerns relevant to the scenario AND use constructs from research to answer\n",
    "- Give all formatting in Markdown, not HTML.\n",
    "\n",
    "IMPORTANT: All responses must be compliant with the criteria:\n",
    "\n",
    "- Did the response answer all parts of the original domain question?\n",
    "- Did the response draw on the key theories/research, literature reviews, seminal articles, and researches to answer the question?\n",
    "- Did the response build cogent and integrated response to the question?\n",
    "\n",
    "- If I ask a question, you respond like this:\n",
    "<answer>\n",
    "<any clarifying questions you have>\n",
    "<any additional context you have>\n",
    "<explanation>\n",
    "Let's break it down, step by step.\n",
    "\n",
    "Sources:\n",
    "{sources}\n",
    "\"\"\""
   ]
  },
  {
   "attachments": {},
   "cell_type": "markdown",
   "metadata": {},
   "source": []
  },
  {
   "cell_type": "code",
   "execution_count": 99,
   "metadata": {},
   "outputs": [],
   "source": [
    "def ask(query,verbose=False):\n",
    "    search_query=generate_search_query_text(query)\n",
    "    if verbose:\n",
    "        print(\"Search query: \",search_query)\n",
    "    results=get_search_results(search_query,search_client,verbose)\n",
    "    if verbose:\n",
    "        print(\"Search results: \",results)\n",
    "    prompt=max_prompt.format(sources=results)\n",
    "    message_log=[{\"role\":\"system\",\"content\":prompt},{\"role\":\"user\",\"content\":query}]\n",
    "    if verbose:\n",
    "        print(message_log)\n",
    "    response,message_history=return_response(prompt,\"gpt4\", message_log)\n",
    "    return response.choices[0][\"message\"][\"content\"]\n",
    "\n",
    "def markdown_ask(query,verbose=False):\n",
    "    response=ask(query,verbose)\n",
    "    display(Markdown(response))"
   ]
  },
  {
   "cell_type": "code",
   "execution_count": 96,
   "metadata": {},
   "outputs": [
    {
     "data": {
      "text/markdown": [
       "Boundaryless career refers to a career that transcends traditional organizational boundaries, such as departmental identity and job duties that are ambiguous (Miner & Robinson, 1994), and encompasses physical and/or psychological mobility (Sullivan & Arthur, 2006). Protean career, on the other hand, emphasizes a self-directed approach to the career that is driven by personal values (Briscoe & Hall, 2006) and involves competencies in \"knowing-why,\" \"knowing-how,\" and \"knowing-whom\" (Guan, Arthur, & Khapova, 2019). Combining the two concepts results in 16 possible career profiles that vary in values-driven and self-directedness, as well as psychological and physical mobility (Briscoe & Hall, 2006)."
      ],
      "text/plain": [
       "<IPython.core.display.Markdown object>"
      ]
     },
     "metadata": {},
     "output_type": "display_data"
    }
   ],
   "source": [
    "markdown_ask(\"What is boundaryless and protean careers?\")"
   ]
  },
  {
   "cell_type": "code",
   "execution_count": 100,
   "metadata": {},
   "outputs": [],
   "source": [
    "markdown_ask(\"Write an outline for an essay on boundaryless and protean careers\")"
   ]
  }
 ],
 "metadata": {
  "deepnote": {},
  "deepnote_execution_queue": [],
  "deepnote_notebook_id": "c242df851127416fa72ed1e4531219bd",
  "kernelspec": {
   "display_name": "openai",
   "language": "python",
   "name": "python3"
  },
  "language_info": {
   "codemirror_mode": {
    "name": "ipython",
    "version": 3
   },
   "file_extension": ".py",
   "mimetype": "text/x-python",
   "name": "python",
   "nbconvert_exporter": "python",
   "pygments_lexer": "ipython3",
   "version": "3.11.0"
  },
  "orig_nbformat": 2
 },
 "nbformat": 4,
 "nbformat_minor": 0
}
